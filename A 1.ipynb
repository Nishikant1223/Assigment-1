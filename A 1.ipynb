{
 "cells": [
  {
   "cell_type": "code",
   "execution_count": null,
   "id": "5ed413cd-e65a-4f2c-8a44-4e1d5f11364e",
   "metadata": {},
   "outputs": [],
   "source": [
    "Q1. Explain with an example each when to use a for loop and a while loop.\n",
    "\n",
    "* for loop :-\n",
    "A for loop is used for iterating over a sequence (that is either a list, a tuple, a dictionary, a set, or a string).\n",
    "\n",
    "for example : If we want to create a table of two then we apply for loop in folllowing manner - "
   ]
  },
  {
   "cell_type": "code",
   "execution_count": 3,
   "id": "5bce3b05-7cad-4fe2-98b3-1578f7166092",
   "metadata": {},
   "outputs": [
    {
     "name": "stdout",
     "output_type": "stream",
     "text": [
      "2\n",
      "4\n",
      "6\n",
      "8\n",
      "10\n",
      "12\n",
      "14\n",
      "16\n",
      "18\n",
      "20\n"
     ]
    }
   ],
   "source": [
    "l = [1, 2, 3, 4, 5, 6, 7, 8, 9, 10]\n",
    "for i in l :\n",
    "    print(i*2)"
   ]
  },
  {
   "cell_type": "code",
   "execution_count": null,
   "id": "df60e6e1-21ea-4b1d-8908-72b81ba75ea7",
   "metadata": {},
   "outputs": [],
   "source": [
    "in above example we consider a list as l and take number fron 1 to 10. When we apply for loop in first iteration i = 1 and this one is multiply by 2 \n",
    "therefore we get the output 2 in first position. Similarly all iterations work like that and we get the table of two as a output."
   ]
  },
  {
   "cell_type": "code",
   "execution_count": null,
   "id": "7ad6140e-5545-477d-964a-3f26f6968150",
   "metadata": {},
   "outputs": [],
   "source": [
    "* while loop\n",
    "A while loop statement in Python programming language repeatedly executes a target statement as long as a given condition is true.\n",
    "\n",
    "for example : If we want to create a table of 30 then we apply while loop in following manner -"
   ]
  },
  {
   "cell_type": "code",
   "execution_count": 4,
   "id": "8a58ba02-a45c-4d99-8fe1-c166a4d4027d",
   "metadata": {},
   "outputs": [
    {
     "name": "stdout",
     "output_type": "stream",
     "text": [
      "30\n",
      "60\n",
      "90\n",
      "120\n",
      "150\n",
      "180\n",
      "210\n",
      "240\n",
      "270\n",
      "300\n"
     ]
    }
   ],
   "source": [
    "a = 30\n",
    "while a <= 300 :\n",
    "    print(a)\n",
    "    a = a +30"
   ]
  },
  {
   "cell_type": "code",
   "execution_count": null,
   "id": "03f8cb45-35fa-4d4e-8dc4-e5e745d7c735",
   "metadata": {},
   "outputs": [],
   "source": [
    "In above example first we declare a = 30, When we apply while loop first it check a <= 300 or not if the condition is true it print a and\n",
    "further a is updated by 30 and we get the updated value as a output in sequential manner."
   ]
  },
  {
   "cell_type": "code",
   "execution_count": 5,
   "id": "6f12da00-7fca-479f-8c47-9d043087a094",
   "metadata": {},
   "outputs": [
    {
     "data": {
      "text/plain": [
       "55"
      ]
     },
     "execution_count": 5,
     "metadata": {},
     "output_type": "execute_result"
    }
   ],
   "source": [
    "## Q2. Write a python program to print the sum and product of the first 10 natural numbers using for and while loop\n",
    "# Sum of first 10 natural numbers using for loop\n",
    "\n",
    "l = [1, 2, 3, 4, 5, 6, 7, 8, 9, 10]\n",
    "\n",
    "a = 0\n",
    "for i in l :\n",
    "    a = a + i\n",
    "a\n"
   ]
  },
  {
   "cell_type": "code",
   "execution_count": 7,
   "id": "7ef9e2ae-c35a-4e55-8d22-9220a9ca8d81",
   "metadata": {},
   "outputs": [
    {
     "data": {
      "text/plain": [
       "3628800"
      ]
     },
     "execution_count": 7,
     "metadata": {},
     "output_type": "execute_result"
    }
   ],
   "source": [
    "# product of first 10 natural numbers using for loop\n",
    "\n",
    "l = [1, 2, 3, 4, 5, 6, 7, 8, 9, 10]\n",
    "\n",
    "a = 1\n",
    "for i in l :\n",
    "    a = a * i\n",
    "a\n"
   ]
  },
  {
   "cell_type": "code",
   "execution_count": 8,
   "id": "ac1ff241-d39b-4df5-82e8-a2698fed0ccb",
   "metadata": {},
   "outputs": [
    {
     "name": "stdin",
     "output_type": "stream",
     "text": [
      "Enter your number 10\n"
     ]
    },
    {
     "name": "stdout",
     "output_type": "stream",
     "text": [
      "10\n",
      "19\n",
      "27\n",
      "34\n",
      "40\n",
      "45\n",
      "49\n",
      "52\n",
      "54\n",
      "55\n"
     ]
    }
   ],
   "source": [
    "## sum of first 10 natural numbers using while loop\n",
    "num = int(input(\"Enter your number\"))\n",
    "if num < 0:\n",
    "    print(\"Invalid Number\")\n",
    "else :\n",
    "    sum = 0\n",
    "    while num > 0:\n",
    "        sum = sum + num\n",
    "        num = num -1\n",
    "        print(sum)"
   ]
  },
  {
   "cell_type": "code",
   "execution_count": 9,
   "id": "ed95ce87-96e0-44ec-ad85-79dc0eaa702e",
   "metadata": {},
   "outputs": [
    {
     "name": "stdin",
     "output_type": "stream",
     "text": [
      "enter your number 10\n"
     ]
    },
    {
     "data": {
      "text/plain": [
       "3628800"
      ]
     },
     "execution_count": 9,
     "metadata": {},
     "output_type": "execute_result"
    }
   ],
   "source": [
    "## product of first 10 natural numbers using while loop\n",
    "num = int(input(\"enter your number\"))\n",
    "factorial = 1\n",
    "while num > 0:\n",
    "    factorial = factorial * num\n",
    "    num = num - 1\n",
    "factorial"
   ]
  },
  {
   "cell_type": "code",
   "execution_count": 3,
   "id": "f8bdc7a2-cf79-4b22-9028-dad8aecf0003",
   "metadata": {},
   "outputs": [
    {
     "name": "stdin",
     "output_type": "stream",
     "text": [
      "Enter Your Units 120\n"
     ]
    },
    {
     "name": "stdout",
     "output_type": "stream",
     "text": [
      "720\n"
     ]
    }
   ],
   "source": [
    "'''Q3. Create a python program to compute the electricity bill for a household.The per-unit charges in rupees are as follows: For the first 100 units,\n",
    "the user will be charged Rs. 4.5 per unit, for the next 100 units, the user will be charged Rs. 6 per unit, and for the next 100 units, \n",
    "the user willbe charged Rs. 10 per unit, After 300 units and above the user will be charged Rs. 20 per unit.You are required to take the \n",
    "units of electricity consumed in a month from the user as input.Your program must pass this test case: when the unit of electricity consumed\n",
    "by the user in a month is 310, the total electricity bill should be 2250.'''\n",
    "\n",
    "u = int(input(\"Enter Your Units\"))\n",
    "if u <= 100:\n",
    "    bill = 4.5*u\n",
    "    print(bill)\n",
    "elif u > 100 and u <= 200:\n",
    "    bill = 6*u\n",
    "    print(bill)\n",
    "elif u > 200 and u <= 300:\n",
    "    bill = 10*u\n",
    "    print(bill)\n",
    "elif u > 300:\n",
    "    bill = 20*u\n",
    "    print(bill)\n",
    "else :\n",
    "    print(\"invalid input\")\n",
    "        "
   ]
  },
  {
   "cell_type": "code",
   "execution_count": 1,
   "id": "ab799717-cfbf-4920-a9aa-4b719b8b8ad0",
   "metadata": {},
   "outputs": [],
   "source": [
    "'''Q4. Create a list of numbers from 1 to 100. Use for loop and while loop to calculate the cube of each\n",
    "number and if the cube of that number is divisible by 4 or 5 then append that number in a list and print that list'''\n",
    "\n",
    "# for loop\n",
    "\n",
    "l = list(range(1,101))"
   ]
  },
  {
   "cell_type": "code",
   "execution_count": 2,
   "id": "1619f8a8-e113-4b6f-85eb-2872ad2d9e75",
   "metadata": {},
   "outputs": [
    {
     "data": {
      "text/plain": [
       "[1,\n",
       " 2,\n",
       " 3,\n",
       " 4,\n",
       " 5,\n",
       " 6,\n",
       " 7,\n",
       " 8,\n",
       " 9,\n",
       " 10,\n",
       " 11,\n",
       " 12,\n",
       " 13,\n",
       " 14,\n",
       " 15,\n",
       " 16,\n",
       " 17,\n",
       " 18,\n",
       " 19,\n",
       " 20,\n",
       " 21,\n",
       " 22,\n",
       " 23,\n",
       " 24,\n",
       " 25,\n",
       " 26,\n",
       " 27,\n",
       " 28,\n",
       " 29,\n",
       " 30,\n",
       " 31,\n",
       " 32,\n",
       " 33,\n",
       " 34,\n",
       " 35,\n",
       " 36,\n",
       " 37,\n",
       " 38,\n",
       " 39,\n",
       " 40,\n",
       " 41,\n",
       " 42,\n",
       " 43,\n",
       " 44,\n",
       " 45,\n",
       " 46,\n",
       " 47,\n",
       " 48,\n",
       " 49,\n",
       " 50,\n",
       " 51,\n",
       " 52,\n",
       " 53,\n",
       " 54,\n",
       " 55,\n",
       " 56,\n",
       " 57,\n",
       " 58,\n",
       " 59,\n",
       " 60,\n",
       " 61,\n",
       " 62,\n",
       " 63,\n",
       " 64,\n",
       " 65,\n",
       " 66,\n",
       " 67,\n",
       " 68,\n",
       " 69,\n",
       " 70,\n",
       " 71,\n",
       " 72,\n",
       " 73,\n",
       " 74,\n",
       " 75,\n",
       " 76,\n",
       " 77,\n",
       " 78,\n",
       " 79,\n",
       " 80,\n",
       " 81,\n",
       " 82,\n",
       " 83,\n",
       " 84,\n",
       " 85,\n",
       " 86,\n",
       " 87,\n",
       " 88,\n",
       " 89,\n",
       " 90,\n",
       " 91,\n",
       " 92,\n",
       " 93,\n",
       " 94,\n",
       " 95,\n",
       " 96,\n",
       " 97,\n",
       " 98,\n",
       " 99,\n",
       " 100]"
      ]
     },
     "execution_count": 2,
     "metadata": {},
     "output_type": "execute_result"
    }
   ],
   "source": [
    "l"
   ]
  },
  {
   "cell_type": "code",
   "execution_count": 3,
   "id": "f63dff4e-18e0-48c9-bc42-500aef4e015e",
   "metadata": {},
   "outputs": [],
   "source": [
    "l1 = []\n",
    "for i in l:\n",
    "    cube = i*i*i\n",
    "    l1.append(cube)\n",
    "    "
   ]
  },
  {
   "cell_type": "code",
   "execution_count": 4,
   "id": "be65c3d3-27f0-4215-ba1b-568f489037f5",
   "metadata": {},
   "outputs": [
    {
     "data": {
      "text/plain": [
       "[1,\n",
       " 8,\n",
       " 27,\n",
       " 64,\n",
       " 125,\n",
       " 216,\n",
       " 343,\n",
       " 512,\n",
       " 729,\n",
       " 1000,\n",
       " 1331,\n",
       " 1728,\n",
       " 2197,\n",
       " 2744,\n",
       " 3375,\n",
       " 4096,\n",
       " 4913,\n",
       " 5832,\n",
       " 6859,\n",
       " 8000,\n",
       " 9261,\n",
       " 10648,\n",
       " 12167,\n",
       " 13824,\n",
       " 15625,\n",
       " 17576,\n",
       " 19683,\n",
       " 21952,\n",
       " 24389,\n",
       " 27000,\n",
       " 29791,\n",
       " 32768,\n",
       " 35937,\n",
       " 39304,\n",
       " 42875,\n",
       " 46656,\n",
       " 50653,\n",
       " 54872,\n",
       " 59319,\n",
       " 64000,\n",
       " 68921,\n",
       " 74088,\n",
       " 79507,\n",
       " 85184,\n",
       " 91125,\n",
       " 97336,\n",
       " 103823,\n",
       " 110592,\n",
       " 117649,\n",
       " 125000,\n",
       " 132651,\n",
       " 140608,\n",
       " 148877,\n",
       " 157464,\n",
       " 166375,\n",
       " 175616,\n",
       " 185193,\n",
       " 195112,\n",
       " 205379,\n",
       " 216000,\n",
       " 226981,\n",
       " 238328,\n",
       " 250047,\n",
       " 262144,\n",
       " 274625,\n",
       " 287496,\n",
       " 300763,\n",
       " 314432,\n",
       " 328509,\n",
       " 343000,\n",
       " 357911,\n",
       " 373248,\n",
       " 389017,\n",
       " 405224,\n",
       " 421875,\n",
       " 438976,\n",
       " 456533,\n",
       " 474552,\n",
       " 493039,\n",
       " 512000,\n",
       " 531441,\n",
       " 551368,\n",
       " 571787,\n",
       " 592704,\n",
       " 614125,\n",
       " 636056,\n",
       " 658503,\n",
       " 681472,\n",
       " 704969,\n",
       " 729000,\n",
       " 753571,\n",
       " 778688,\n",
       " 804357,\n",
       " 830584,\n",
       " 857375,\n",
       " 884736,\n",
       " 912673,\n",
       " 941192,\n",
       " 970299,\n",
       " 1000000]"
      ]
     },
     "execution_count": 4,
     "metadata": {},
     "output_type": "execute_result"
    }
   ],
   "source": [
    "l1"
   ]
  },
  {
   "cell_type": "code",
   "execution_count": 5,
   "id": "a8690a86-3697-46c6-9e3a-02f878ca1e22",
   "metadata": {},
   "outputs": [
    {
     "name": "stdout",
     "output_type": "stream",
     "text": [
      "8\n",
      "64\n",
      "125\n",
      "216\n",
      "512\n",
      "1000\n",
      "1728\n",
      "2744\n",
      "3375\n",
      "4096\n",
      "5832\n",
      "8000\n",
      "10648\n",
      "13824\n",
      "15625\n",
      "17576\n",
      "21952\n",
      "27000\n",
      "32768\n",
      "39304\n",
      "42875\n",
      "46656\n",
      "54872\n",
      "64000\n",
      "74088\n",
      "85184\n",
      "91125\n",
      "97336\n",
      "110592\n",
      "125000\n",
      "140608\n",
      "157464\n",
      "166375\n",
      "175616\n",
      "195112\n",
      "216000\n",
      "238328\n",
      "262144\n",
      "274625\n",
      "287496\n",
      "314432\n",
      "343000\n",
      "373248\n",
      "405224\n",
      "421875\n",
      "438976\n",
      "474552\n",
      "512000\n",
      "551368\n",
      "592704\n",
      "614125\n",
      "636056\n",
      "681472\n",
      "729000\n",
      "778688\n",
      "830584\n",
      "857375\n",
      "884736\n",
      "941192\n",
      "1000000\n"
     ]
    }
   ],
   "source": [
    "l2 = []\n",
    "for i in l:\n",
    "    cube = i*i*i\n",
    "    if cube%4 == 0 or cube%5 ==0:\n",
    "        print(cube)\n",
    "        "
   ]
  },
  {
   "cell_type": "code",
   "execution_count": 1,
   "id": "32b37cf5-84f4-4406-adcd-f3f05acf6e52",
   "metadata": {},
   "outputs": [
    {
     "name": "stdout",
     "output_type": "stream",
     "text": [
      "8\n",
      "64\n",
      "125\n",
      "216\n",
      "512\n",
      "1000\n",
      "1728\n",
      "2744\n",
      "3375\n",
      "4096\n",
      "5832\n",
      "8000\n",
      "10648\n",
      "13824\n",
      "15625\n",
      "17576\n",
      "21952\n",
      "27000\n",
      "32768\n",
      "39304\n",
      "42875\n",
      "46656\n",
      "54872\n",
      "64000\n",
      "74088\n",
      "85184\n",
      "91125\n",
      "97336\n",
      "110592\n",
      "125000\n",
      "140608\n",
      "157464\n",
      "166375\n",
      "175616\n",
      "195112\n",
      "216000\n",
      "238328\n",
      "262144\n",
      "274625\n",
      "287496\n",
      "314432\n",
      "343000\n",
      "373248\n",
      "405224\n",
      "421875\n",
      "438976\n",
      "474552\n",
      "512000\n",
      "551368\n",
      "592704\n",
      "614125\n",
      "636056\n",
      "681472\n",
      "729000\n",
      "778688\n",
      "830584\n",
      "857375\n",
      "884736\n",
      "941192\n",
      "1000000\n"
     ]
    }
   ],
   "source": [
    "# while loop\n",
    "a =1\n",
    "while a <= 100:\n",
    "    r = a*a*a\n",
    "    if r%4==0 or r%5==0:\n",
    "        print(r)\n",
    "    a = a + 1"
   ]
  },
  {
   "cell_type": "code",
   "execution_count": 3,
   "id": "d3091baa-4e6c-4e55-8895-19c64c2e02fc",
   "metadata": {},
   "outputs": [
    {
     "name": "stdout",
     "output_type": "stream",
     "text": [
      "vowels are\n",
      "1\n",
      "vowels are\n",
      "2\n",
      "vowels are\n",
      "3\n",
      "vowels are\n",
      "4\n",
      "vowels are\n",
      "5\n",
      "vowels are\n",
      "6\n",
      "vowels are\n",
      "7\n",
      "vowels are\n",
      "8\n",
      "vowels are\n",
      "9\n",
      "vowels are\n",
      "10\n",
      "vowels are\n",
      "11\n",
      "vowels are\n",
      "12\n"
     ]
    }
   ],
   "source": [
    "'''Q5. Write a program to filter count vowels in the below-given string.\n",
    "string = \"I want to become a data scientist\"'''\n",
    "\n",
    "string = \"I want to become a data scientist\"\n",
    "vowel = 0\n",
    "for i in string:\n",
    "    if(i=='a' or i=='e' or i=='i' or i=='o' or i=='u'or i=='I'):\n",
    "        vowel = vowel + 1\n",
    "        print(\"vowels are\")\n",
    "        print(vowel)\n"
   ]
  },
  {
   "cell_type": "code",
   "execution_count": null,
   "id": "f1cbb471-bb05-4f1c-8ba0-07664d9f5453",
   "metadata": {},
   "outputs": [],
   "source": []
  }
 ],
 "metadata": {
  "kernelspec": {
   "display_name": "Python 3 (ipykernel)",
   "language": "python",
   "name": "python3"
  },
  "language_info": {
   "codemirror_mode": {
    "name": "ipython",
    "version": 3
   },
   "file_extension": ".py",
   "mimetype": "text/x-python",
   "name": "python",
   "nbconvert_exporter": "python",
   "pygments_lexer": "ipython3",
   "version": "3.10.8"
  }
 },
 "nbformat": 4,
 "nbformat_minor": 5
}
